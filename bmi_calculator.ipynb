name = input("Enter your name: ")

weight = int(input("Enter your weight in kg: "))

height = int(input("Enter your height in cm: ")) / 100

BMI = (weight) / (height * height)

print(BMI)

if BMI > 0:
    if (BMI < 16):
        print(name + ", you are severely underweight.")
    elif (BMI <= 17):
        print(name + ", you are moderately underweight.")
    elif (BMI <= 18.5):
        print(name + ", you are mildly underweight.")
    elif (BMI <= 25):
        print(name + ", you are normal weight.")
    elif (BMI <= 30):
        print(name + ", you are overweight!")
    elif (BMI <= 35):
        print(name + ", you suffer from Obesity Class I!")
    elif (BMI <= 40):
        print(name + ", you suffer from Obesity Class II!")
    else:
        print(name + ", you suffer from Obesity Class III, also know as Morbid Obesity!")
else:
    print("Enter a valid input")
